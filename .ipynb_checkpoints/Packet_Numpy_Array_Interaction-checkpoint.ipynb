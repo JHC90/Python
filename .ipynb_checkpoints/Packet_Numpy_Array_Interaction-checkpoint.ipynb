{
 "cells": [
  {
   "cell_type": "markdown",
   "metadata": {},
   "source": [
    "# Numpy\n",
    "https://towardsdatascience.com/lets-talk-about-numpy-for-datascience-beginners-b8088722309f\n",
    "\n",
    "weiteres hilfreiches Tutorial\n",
    "https://www.kaggle.com/python10pm/learn-numpy-the-hard-way-70-exercises-solutions"
   ]
  },
  {
   "cell_type": "code",
   "execution_count": 2,
   "metadata": {},
   "outputs": [],
   "source": [
    "import numpy as np"
   ]
  },
  {
   "cell_type": "markdown",
   "metadata": {},
   "source": [
    "## Create Numpy-Array"
   ]
  },
  {
   "cell_type": "code",
   "execution_count": 25,
   "metadata": {},
   "outputs": [
    {
     "name": "stdout",
     "output_type": "stream",
     "text": [
      "[0.44529488 0.12028035 0.56737235 0.24441402 0.24664845 0.11442185\n",
      " 0.36610129 0.21887851 0.52418328 0.42369592 0.40108522 0.79747753\n",
      " 0.21060816 0.22255648 0.98669029 0.35811407 0.10707313 0.5468217\n",
      " 0.70217085 0.20884735 0.57949985 0.58456655 0.70022566 0.85126028\n",
      " 0.40749741]\n",
      "\n",
      "[0.44529488 0.12028035 0.56737235 0.24441402 0.24664845 0.11442185\n",
      " 0.36610129 0.21887851 0.52418328 0.42369592 0.40108522 0.79747753\n",
      " 0.21060816 0.22255648 0.98669029 0.35811407 0.10707313 0.5468217\n",
      " 0.70217085 0.20884735 0.57949985 0.58456655 0.70022566 0.85126028\n",
      " 0.40749741]\n"
     ]
    }
   ],
   "source": [
    "# converting 1d in 2d \n",
    "arr = np.random.rand(25)\n",
    "print(arr)\n",
    "arr.reshape(5,5)\n",
    "print()\n",
    "print(arr)\n"
   ]
  },
  {
   "cell_type": "code",
   "execution_count": 35,
   "metadata": {},
   "outputs": [
    {
     "data": {
      "text/plain": [
       "(25,)"
      ]
     },
     "execution_count": 35,
     "metadata": {},
     "output_type": "execute_result"
    }
   ],
   "source": [
    "# shape of an array\n",
    "arr.shape"
   ]
  },
  {
   "cell_type": "code",
   "execution_count": 43,
   "metadata": {},
   "outputs": [
    {
     "name": "stdout",
     "output_type": "stream",
     "text": [
      "[ 0  1  2  3  4  5  6  7  8  9 10]\n"
     ]
    },
    {
     "data": {
      "text/plain": [
       "array([ 5,  6,  7,  8,  9, 10])"
      ]
     },
     "execution_count": 43,
     "metadata": {},
     "output_type": "execute_result"
    }
   ],
   "source": [
    "my_array = np.arange(0,11)\n",
    "print(my_array)\n",
    "my_array[8]  #This gives us the value of element at index 8\n",
    "my_array[2:6] #This returns everything from index 2 to 6(exclusive)\n",
    "my_array[:6] #This returns everything from index 0 to 6(exclusive)\n",
    "my_array[5:] #This returns everything from index 5 to the end of the array."
   ]
  }
 ],
 "metadata": {
  "kernelspec": {
   "display_name": "Python 3",
   "language": "python",
   "name": "python3"
  },
  "language_info": {
   "codemirror_mode": {
    "name": "ipython",
    "version": 3
   },
   "file_extension": ".py",
   "mimetype": "text/x-python",
   "name": "python",
   "nbconvert_exporter": "python",
   "pygments_lexer": "ipython3",
   "version": "3.6.9"
  },
  "toc": {
   "base_numbering": 1,
   "nav_menu": {},
   "number_sections": true,
   "sideBar": true,
   "skip_h1_title": false,
   "title_cell": "Table of Contents",
   "title_sidebar": "Contents",
   "toc_cell": false,
   "toc_position": {},
   "toc_section_display": true,
   "toc_window_display": true
  }
 },
 "nbformat": 4,
 "nbformat_minor": 2
}
