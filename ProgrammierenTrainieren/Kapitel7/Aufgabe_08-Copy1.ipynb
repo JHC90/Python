{
 "cells": [
  {
   "cell_type": "markdown",
   "metadata": {},
   "source": [
    "# Aufgabe 8\n",
    "\n",
    "![title](imgs/Aufgabe8.png)"
   ]
  },
  {
   "cell_type": "raw",
   "metadata": {},
   "source": [
    "Testfälle\n",
    "http://www.hanser-fachbuch.de/buch/WebSockets/9783446443716 \n",
    "→\n",
    "http%3A%2F%2Fwww.hanser-fachbuch.de%2Fbuch%2FWebSockets%2F9783446443716"
   ]
  },
  {
   "cell_type": "code",
   "execution_count": 41,
   "metadata": {},
   "outputs": [],
   "source": [
    "testincoming = \"http://www.hanser-fachbuch.de/buch/WebSockets/9783446443716\"\n",
    "testSolutionPattern = \"http%3A%2F%2Fwww.hanser-fachbuch.de%2Fbuch%2FWebSockets%2F9783446443716\""
   ]
  },
  {
   "cell_type": "raw",
   "metadata": {},
   "source": [
    "# hier während der Entwicklung\n",
    "testincoming = \"http://www.hanser-fachbuch.de/buch/WebSockets/9783446443716 *,/\""
   ]
  },
  {
   "cell_type": "code",
   "execution_count": 42,
   "metadata": {},
   "outputs": [],
   "source": [
    "translateDict = {\n",
    "    \" \" : \"%20\",\n",
    "    \"*\" : \"%2A\",\n",
    "    \"+\" : \"%2B\",\n",
    "    \",\" : \"%2C\",\n",
    "    \"/\" : \"%2F\",\n",
    "    \":\" : \"%3A\",\n",
    "    \";\" : \"%3B\",\n",
    "    \"=\" : \"%3D\",\n",
    "    \"?\" : \"%3F\"  \n",
    "}\n"
   ]
  },
  {
   "cell_type": "code",
   "execution_count": 46,
   "metadata": {},
   "outputs": [],
   "source": [
    "def modify(incoming):\n",
    "    # umwanglund in liste\n",
    "    workingType = []\n",
    "    for i in range(0, len(incoming) ,1):\n",
    "        workingType.append(incoming[i])\n",
    "  \n",
    "    # liste durchiteriern & updaten\n",
    "    for i in range(0, len(workingType),1):\n",
    "        if(incoming[i] in translateDict):\n",
    "            workingType[i] = translateDict[workingType[i]]\n",
    "   \n",
    "    \n",
    "    # Returnstring\n",
    "    returnstring = \"\"\n",
    "    for i in range(0, len(workingType),1):\n",
    "        returnstring += workingType[i]\n",
    "    return(returnstring)"
   ]
  },
  {
   "cell_type": "code",
   "execution_count": 47,
   "metadata": {},
   "outputs": [],
   "source": [
    "modifiedString = modify(testincoming)"
   ]
  },
  {
   "cell_type": "code",
   "execution_count": 48,
   "metadata": {},
   "outputs": [
    {
     "name": "stdout",
     "output_type": "stream",
     "text": [
      "yes, wir haben eine String-Übereinstimmung zwischen Selbst-erstellt und Ziel-Vorageb\n"
     ]
    }
   ],
   "source": [
    "\n",
    "if(testSolutionPattern == modifiedString):\n",
    "    print(\"yes, wir haben eine String-Übereinstimmung zwischen Selbst-erstellt und Ziel-Vorageb\")\n",
    "else:\n",
    "    print(\"keine Übereinstimmung\")\n",
    "    print(modifiedString)\n",
    "    print(testSolutionPattern)\n"
   ]
  },
  {
   "cell_type": "markdown",
   "metadata": {},
   "source": [
    "<hr>\n",
    "<hr>\n",
    "<hr>\n",
    "\n",
    "# Here the system and packages I used for creating this Notebook"
   ]
  },
  {
   "cell_type": "code",
   "execution_count": 141,
   "metadata": {},
   "outputs": [
    {
     "name": "stdout",
     "output_type": "stream",
     "text": [
      "nt\n",
      "Windows\n",
      "10\n",
      "python-version: 3.7.4\n"
     ]
    }
   ],
   "source": [
    "import os\n",
    "import platform\n",
    "print(os.name)\n",
    "print(platform.system())\n",
    "print(platform.release())\n",
    "print(\"python-version: \" + platform.python_version())\n",
    "# Anaconda Version"
   ]
  }
 ],
 "metadata": {
  "kernelspec": {
   "display_name": "Python 3",
   "language": "python",
   "name": "python3"
  },
  "language_info": {
   "codemirror_mode": {
    "name": "ipython",
    "version": 3
   },
   "file_extension": ".py",
   "mimetype": "text/x-python",
   "name": "python",
   "nbconvert_exporter": "python",
   "pygments_lexer": "ipython3",
   "version": "3.7.4"
  }
 },
 "nbformat": 4,
 "nbformat_minor": 2
}
