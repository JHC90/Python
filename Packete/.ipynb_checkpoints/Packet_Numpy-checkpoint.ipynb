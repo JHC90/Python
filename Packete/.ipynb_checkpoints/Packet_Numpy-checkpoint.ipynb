{
 "cells": [
  {
   "cell_type": "markdown",
   "metadata": {},
   "source": [
    "# Numpy\n",
    "NumPy (oder Numpy) ist eine Lineare Algebra Library für Python. Dass sie so wichtig für Data Science mit Python ist, liegt daran, dass fast alle Libraries im PyData Ökosystem auf NumPy zurückgreifen.\n",
    "NumPy ist außerdem extrem schnell, da es Anbindung an die C Library hat. Für mehr Informationen darüber, warum man Arrays statt Listen verwenden sollte, könnt ihr diesen tollen StackOverflow Post lesen.\n",
    "Wir werden nur die Grundlagen von NumPy lernen und es installieren, um damit arbeiten zu können."
   ]
  },
  {
   "cell_type": "markdown",
   "metadata": {},
   "source": [
    "<b>Sources</b><br>\n",
    "[UdemyKursPythonFürFinanzanalysen](https://www.udemy.com/course/python-fur-finanzanalysen-und-algorithmisches-trading/learn/lecture/10014224#overview)"
   ]
  },
  {
   "cell_type": "code",
   "execution_count": 1,
   "metadata": {},
   "outputs": [],
   "source": [
    "#!pip install numpy\n",
    "import numpy as np"
   ]
  },
  {
   "cell_type": "markdown",
   "metadata": {},
   "source": [
    "# Create DataStructure from Array"
   ]
  },
  {
   "cell_type": "markdown",
   "metadata": {},
   "source": [
    "## Liste / Vektor / 1d"
   ]
  },
  {
   "cell_type": "code",
   "execution_count": 2,
   "metadata": {},
   "outputs": [],
   "source": [
    "## hier erstelle ich einen NP-Vektor aus einer Python liste\n",
    "myOwnList = [1,2,3] # => Liste\n",
    "ownNpArray = np.array(myOwnList) \n",
    "ownNpArray\n",
    "ownNpArray.dtype # => Ausgabe der inkludieten Datentypen"
   ]
  },
  {
   "cell_type": "markdown",
   "metadata": {},
   "source": [
    "## Matrix / Tabelle / 2d"
   ]
  },
  {
   "cell_type": "code",
   "execution_count": 3,
   "metadata": {},
   "outputs": [],
   "source": [
    "meine_matrix = [[1,2,3],[4,5,6],[7,8,9]] #=> mehrdimensionale Liste\n",
    "meine_matrix\n",
    "ownNpMatrix = np.array(myOwnList) \n",
    "ownNpMatrix.dtype # => Ausgabe der inkludieten Datentypen"
   ]
  },
  {
   "cell_type": "code",
   "execution_count": 4,
   "metadata": {},
   "outputs": [],
   "source": [
    "meine_matrix = [[1,'Kai',3],[4,'Eva',6],[7,'Jochen',9]] #=> mehrdimensionale Liste\n",
    "meine_matrix\n",
    "ownNpMatrixWithCategorie = np.array(meine_matrix)\n",
    "ownNpMatrixWithCategorie[:,0].dtype"
   ]
  },
  {
   "cell_type": "markdown",
   "metadata": {},
   "source": [
    "## create Array mit Numpy-Methoden / Sequenz"
   ]
  },
  {
   "cell_type": "code",
   "execution_count": 5,
   "metadata": {},
   "outputs": [],
   "source": [
    "# Spanne über geiwissen bereich auf\n",
    "print(np.arange(0,10)) # => array von 0(inkl) bis 10(exkl)\n",
    "print(np.arange(0,20,2)) # => array von 0(inkl) bis 20(exkl) in 2 er schritten"
   ]
  },
  {
   "cell_type": "markdown",
   "metadata": {},
   "source": [
    "## Zeros und Ones\n",
    "Das kann besonders bei der Matritzen Rechnung von Bedeutung werden. Hier erstellen wir arrays mit ledilgich einzelnen werten\n"
   ]
  },
  {
   "cell_type": "code",
   "execution_count": 6,
   "metadata": {},
   "outputs": [],
   "source": [
    "# Vektor mit nur 0\n",
    "np.zeros(3)\n",
    "# Matrix mit nur 0\n",
    "np.zeros((5,5))\n",
    "# nur 1er\n",
    "np.ones(3)\n",
    "np.ones((3,3))"
   ]
  },
  {
   "cell_type": "markdown",
   "metadata": {},
   "source": [
    "## Linspace\n",
    "Gleichverteilungen in angegebenem Raum"
   ]
  },
  {
   "cell_type": "code",
   "execution_count": 7,
   "metadata": {},
   "outputs": [],
   "source": [
    "np.linspace(0,10,3) # Array\n",
    "np.linspace(0,10,51)# Matrix"
   ]
  },
  {
   "cell_type": "markdown",
   "metadata": {},
   "source": [
    "## Eye-Fkt || Einheitsmatrix\n",
    "erstellt eine Einheitsmatrix"
   ]
  },
  {
   "cell_type": "code",
   "execution_count": 8,
   "metadata": {},
   "outputs": [],
   "source": [
    "np.eye(4)"
   ]
  },
  {
   "cell_type": "markdown",
   "metadata": {},
   "source": [
    "## Symetrische Matrix via Loop"
   ]
  },
  {
   "cell_type": "code",
   "execution_count": 9,
   "metadata": {},
   "outputs": [
    {
     "data": {
      "text/plain": [
       "array([[6., 6., 6., 6., 6., 6., 6., 6., 6., 6.],\n",
       "       [4., 4., 4., 4., 4., 4., 4., 4., 4., 4.],\n",
       "       [8., 8., 8., 8., 8., 8., 8., 8., 8., 8.],\n",
       "       [2., 2., 2., 2., 2., 2., 2., 2., 2., 2.]])"
      ]
     },
     "execution_count": 9,
     "metadata": {},
     "output_type": "execute_result"
    }
   ],
   "source": [
    "arr2d = np.zeros((10,10))\n",
    "arr_laenge = arr2d.shape[1]\n",
    "#print(arr2d)\n",
    "for i in range(arr_laenge):\n",
    "    arr2d[i] = i\n",
    "    \n",
    "arr2d\n",
    "#print(arr2d)\n",
    "\n",
    "# Subfunctions\n",
    "arr2d[[2,4,6,8]]\n",
    "arr2d[[6,4,8,2]]"
   ]
  },
  {
   "cell_type": "code",
   "execution_count": 10,
   "metadata": {},
   "outputs": [
    {
     "data": {
      "text/plain": [
       "array([[2., 2., 2., 2., 2., 2., 2., 2., 2., 2.],\n",
       "       [4., 4., 4., 4., 4., 4., 4., 4., 4., 4.],\n",
       "       [6., 6., 6., 6., 6., 6., 6., 6., 6., 6.],\n",
       "       [8., 8., 8., 8., 8., 8., 8., 8., 8., 8.]])"
      ]
     },
     "execution_count": 10,
     "metadata": {},
     "output_type": "execute_result"
    }
   ],
   "source": [
    "arr2d[[2,4,6,8]]"
   ]
  },
  {
   "cell_type": "markdown",
   "metadata": {},
   "source": [
    "# Numpy Basic-Functions"
   ]
  },
  {
   "cell_type": "markdown",
   "metadata": {},
   "source": [
    "## Seed\n",
    "Ein Seed sorgt dafür, dass random funktionen beim Wiederholten ausführen, immer die gleichen Results zurückgegben. Das hat den Sinn und Zweck, dass während Entwicklungen immer die gleichen Bedingungen geschaffen werden können."
   ]
  },
  {
   "cell_type": "code",
   "execution_count": 11,
   "metadata": {},
   "outputs": [],
   "source": [
    "np.random.seed(101) #<= hier eine Nummer rein, und es kommt immer das gleiche An zahlen raus"
   ]
  },
  {
   "cell_type": "markdown",
   "metadata": {},
   "source": [
    "## Random\n",
    "erstellt Random zahlen. Random return eine [Normalverteilung](https://github.com/JHC90/Basic-DataScience-Skills/wiki/Statistics_Basics_015_Normalverteilung)"
   ]
  },
  {
   "cell_type": "code",
   "execution_count": 12,
   "metadata": {},
   "outputs": [
    {
     "data": {
      "text/plain": [
       "array([[0.68527698, 0.83389686, 0.30696622, 0.89361308, 0.72154386],\n",
       "       [0.18993895, 0.55422759, 0.35213195, 0.1818924 , 0.78560176],\n",
       "       [0.96548322, 0.23235366, 0.08356143, 0.60354842, 0.72899276],\n",
       "       [0.27623883, 0.68530633, 0.51786747, 0.04848454, 0.13786924],\n",
       "       [0.18696743, 0.9943179 , 0.5206654 , 0.57878954, 0.73481906]])"
      ]
     },
     "execution_count": 12,
     "metadata": {},
     "output_type": "execute_result"
    }
   ],
   "source": [
    "np.random.rand(1)# Bereich zwischen 0 & 1 || 1 return value\n",
    "np.random.rand(3)# Bereich zwischen 0 & 1 || 3 Return value\n",
    "np.random.rand(5,5) # Random Matrix 5x5"
   ]
  },
  {
   "cell_type": "markdown",
   "metadata": {},
   "source": [
    "## randn\n",
    "erstellt Random zahlen. randn return eine [StandardNormalverteilung](https://github.com/JHC90/Basic-DataScience-Skills/wiki/Statistics_Basics_015_Normalverteilung)"
   ]
  },
  {
   "cell_type": "code",
   "execution_count": 13,
   "metadata": {},
   "outputs": [
    {
     "data": {
      "text/plain": [
       "array([[-0.38205785, -0.02764404, -1.03098696],\n",
       "       [ 1.96154884, -0.53106678,  1.31239754],\n",
       "       [-0.47034729, -0.6553491 , -0.23077137]])"
      ]
     },
     "execution_count": 13,
     "metadata": {},
     "output_type": "execute_result"
    }
   ],
   "source": [
    "np.random.randn(500)\n",
    "randMatrix = np.random.randn(3,3)\n",
    "randMatrix"
   ]
  },
  {
   "cell_type": "markdown",
   "metadata": {},
   "source": [
    "## rand\n",
    "erstellt Random zahlen. rand returnr eine [Gleichverteilung](https://github.com/JHC90/Basic-DataScience-Skills/wiki/Statistics_Basics_013_Gleichverteilung)"
   ]
  },
  {
   "cell_type": "code",
   "execution_count": 14,
   "metadata": {},
   "outputs": [
    {
     "data": {
      "text/plain": [
       "array([0.6511865 , 0.26867605, 0.36891579, 0.56275138, 0.5693618 ])"
      ]
     },
     "execution_count": 14,
     "metadata": {},
     "output_type": "execute_result"
    }
   ],
   "source": [
    "np.random.rand(5)\n",
    "#np.random.rand(3,3)"
   ]
  },
  {
   "cell_type": "markdown",
   "metadata": {},
   "source": [
    "## randint\n",
    "Gibt Zufallszahlen von `low`(inklusive) bis `high`(exklusive) zurück."
   ]
  },
  {
   "cell_type": "code",
   "execution_count": 15,
   "metadata": {},
   "outputs": [],
   "source": [
    "np.random.randint(1,100) # => 1 ganzzahlige Zufallszahl zwischen 1 & 100\n",
    "randArray = np.random.randint(1,100,10)# => 10 Zufallszahlen zwischen 1&100"
   ]
  },
  {
   "cell_type": "markdown",
   "metadata": {},
   "source": [
    "## max, min, argmax, argmin"
   ]
  },
  {
   "cell_type": "code",
   "execution_count": 16,
   "metadata": {},
   "outputs": [
    {
     "data": {
      "text/plain": [
       "array([94, 18, 35, 25, 24, 47, 56, 26, 65, 91])"
      ]
     },
     "execution_count": 16,
     "metadata": {},
     "output_type": "execute_result"
    }
   ],
   "source": [
    "randArray"
   ]
  },
  {
   "cell_type": "code",
   "execution_count": 17,
   "metadata": {},
   "outputs": [
    {
     "data": {
      "text/plain": [
       "1"
      ]
     },
     "execution_count": 17,
     "metadata": {},
     "output_type": "execute_result"
    }
   ],
   "source": [
    "# Max-Value aus dem Randarray\n",
    "randArray.max()\n",
    "# index des Max-Value aus dem Randarray\n",
    "randArray.argmax()\n",
    "# Min-Value aus dem Randarray\n",
    "randArray.min()\n",
    "# index des Min-Value aus dem Randarray\n",
    "randArray.argmin()"
   ]
  },
  {
   "cell_type": "code",
   "execution_count": 18,
   "metadata": {},
   "outputs": [
    {
     "data": {
      "text/plain": [
       "1"
      ]
     },
     "execution_count": 18,
     "metadata": {},
     "output_type": "execute_result"
    }
   ],
   "source": [
    "# Alternativen\n",
    "np.max(randArray)\n",
    "np.min(randArray)\n",
    "np.argmax(randArray)\n",
    "np.argmin(randArray)"
   ]
  },
  {
   "cell_type": "markdown",
   "metadata": {},
   "source": [
    "# Reshape"
   ]
  },
  {
   "cell_type": "code",
   "execution_count": 19,
   "metadata": {},
   "outputs": [],
   "source": [
    "# Data for Reshape-Section\n",
    "arr = np.arange(30)"
   ]
  },
  {
   "cell_type": "markdown",
   "metadata": {},
   "source": [
    "## Shape Function\n",
    "mit der Shape function kann die gegenwärtige \"Form des Arrays\" abgefragt werden. Achtung das ist kein funktionsaufruf => keine \"()\" nach Aufruf des shape commands"
   ]
  },
  {
   "cell_type": "code",
   "execution_count": 20,
   "metadata": {},
   "outputs": [
    {
     "data": {
      "text/plain": [
       "3"
      ]
     },
     "execution_count": 20,
     "metadata": {},
     "output_type": "execute_result"
    }
   ],
   "source": [
    "randArray.shape\n",
    "randMatrix.shape\n",
    "randMatrix.shape[0] # =rows\n",
    "randMatrix.shape[1] # =Columns"
   ]
  },
  {
   "cell_type": "markdown",
   "metadata": {},
   "source": [
    "## Vektor => Matrix\n",
    "hier wird ein Vektor zu einer Matrix umformuliert. D.h. es ist wichtig dass die Anzahl der elemente in dem Vektor gleich das Produkt aus Zeilen und Spalten aus der Matrix sind. Bsp 30 = 5*6 = 3*10 = 10*3 ......"
   ]
  },
  {
   "cell_type": "code",
   "execution_count": 21,
   "metadata": {},
   "outputs": [
    {
     "data": {
      "text/plain": [
       "array([ 0,  1,  2,  3,  4,  5,  6,  7,  8,  9, 10, 11, 12, 13, 14, 15, 16,\n",
       "       17, 18, 19, 20, 21, 22, 23, 24, 25, 26, 27, 28, 29])"
      ]
     },
     "execution_count": 21,
     "metadata": {},
     "output_type": "execute_result"
    }
   ],
   "source": [
    "arr.reshape(5,6) # Tranform in Matrix\n",
    "arr.reshape(3,10)# Tranform in Matrix\n",
    "arr.reshape(10,3)# Tranform in Matrix\n",
    "arr.reshape(30,)# Tranform in Vektor = Flatten"
   ]
  },
  {
   "cell_type": "code",
   "execution_count": 22,
   "metadata": {},
   "outputs": [
    {
     "data": {
      "text/plain": [
       "dtype('int32')"
      ]
     },
     "execution_count": 22,
     "metadata": {},
     "output_type": "execute_result"
    }
   ],
   "source": [
    "arr.dtype"
   ]
  },
  {
   "cell_type": "markdown",
   "metadata": {},
   "source": [
    "# Good to know bei Numpy für Select & Update Data || Slect vs Copy\n",
    "Diesen Mult"
   ]
  },
  {
   "cell_type": "markdown",
   "metadata": {},
   "source": [
    "## Ist-Situation\n",
    "wenn ich aus einem gegebenen ORGINALARRAY ein SUBARRAY auswähle un dieses SUBARRAY ändere, so ändert sich auch der Wertebereich im eigentlichen ORGINALARRAY."
   ]
  },
  {
   "cell_type": "code",
   "execution_count": 23,
   "metadata": {},
   "outputs": [
    {
     "name": "stdout",
     "output_type": "stream",
     "text": [
      "[ 0  2  4  6  8 10 12 14 16 18]\n",
      "[14 16 18]\n",
      "[100 100 100]\n",
      "[  0   2   4   6   8  10  12 100 100 100]\n"
     ]
    }
   ],
   "source": [
    "ORGINALARRAY = (np.arange(0,20,2))\n",
    "print(ORGINALARRAY)\n",
    "SUBARRAY = ORGINALARRAY[7:]\n",
    "print(SUBARRAY)\n",
    "SUBARRAY[:] = 100 # => alle werte in Subarray sind jetzt 100 UND im Orginalbereich hat sich auch der Wertebereich angepasst\n",
    "print(SUBARRAY)\n",
    "print(ORGINALARRAY)"
   ]
  },
  {
   "cell_type": "markdown",
   "metadata": {},
   "source": [
    "Anders ausgedrückt: Beim erstellen eines Subarrays muss man entscheiden ob man ein eigenständiges np.Array benötigt, oder sich immer wieder auf das eigentliche Array bezieht. "
   ]
  },
  {
   "cell_type": "markdown",
   "metadata": {},
   "source": [
    "## Lösung mit Copy"
   ]
  },
  {
   "cell_type": "code",
   "execution_count": 24,
   "metadata": {},
   "outputs": [
    {
     "name": "stdout",
     "output_type": "stream",
     "text": [
      "##########---Hier nach der Modlifikaiton---##########\n",
      "[ 0  2  4  6  8 10 12 14 16 18]\n",
      "[  0   2   4   6   8  10  12 100 100 100]\n",
      "[100 100 100]\n"
     ]
    }
   ],
   "source": [
    "ORGINALARRAY = (np.arange(0,20,2))\n",
    "ORGINALARRAY_Copied = ORGINALARRAY.copy()\n",
    "SUBARRAY = ORGINALARRAY_Copied[7:]\n",
    "SUBARRAY[:] = 100\n",
    "\n",
    "\n",
    "print('##########---Hier nach der Modlifikaiton---##########')\n",
    "print(ORGINALARRAY)\n",
    "print(ORGINALARRAY_Copied)\n",
    "print(SUBARRAY)\n"
   ]
  },
  {
   "cell_type": "markdown",
   "metadata": {},
   "source": [
    "# Select Data"
   ]
  },
  {
   "cell_type": "code",
   "execution_count": 25,
   "metadata": {},
   "outputs": [],
   "source": [
    "# Data for Selection-Demonstration\n",
    "arr = (np.arange(0,20,2))\n",
    "arr_2d = np.array(([5,10,15],[20,25,30],[35,40,45]))"
   ]
  },
  {
   "cell_type": "markdown",
   "metadata": {},
   "source": [
    "## 1D Vector"
   ]
  },
  {
   "cell_type": "code",
   "execution_count": 26,
   "metadata": {},
   "outputs": [
    {
     "data": {
      "text/plain": [
       "array([ 0,  2,  4,  6,  8, 10, 12, 14, 16, 18])"
      ]
     },
     "execution_count": 26,
     "metadata": {},
     "output_type": "execute_result"
    }
   ],
   "source": [
    "arr"
   ]
  },
  {
   "cell_type": "markdown",
   "metadata": {},
   "source": [
    "### Single Value from Vector mit Index"
   ]
  },
  {
   "cell_type": "code",
   "execution_count": 27,
   "metadata": {},
   "outputs": [
    {
     "data": {
      "text/plain": [
       "10"
      ]
     },
     "execution_count": 27,
     "metadata": {},
     "output_type": "execute_result"
    }
   ],
   "source": [
    "arr[5]"
   ]
  },
  {
   "cell_type": "markdown",
   "metadata": {},
   "source": [
    "### Wertebereich von Vector\n"
   ]
  },
  {
   "cell_type": "code",
   "execution_count": 28,
   "metadata": {},
   "outputs": [
    {
     "data": {
      "text/plain": [
       "array([2, 4, 6, 8])"
      ]
     },
     "execution_count": 28,
     "metadata": {},
     "output_type": "execute_result"
    }
   ],
   "source": [
    "arr[1:5] # untereGrenze = inkl // obere Grenze = exkl"
   ]
  },
  {
   "cell_type": "markdown",
   "metadata": {},
   "source": [
    "### Auf Basis einer Bedingung || Filter Vector\n",
    "hierzu arbeitet man mit den ablgelegten Boolean werten"
   ]
  },
  {
   "cell_type": "code",
   "execution_count": 29,
   "metadata": {},
   "outputs": [
    {
     "name": "stdout",
     "output_type": "stream",
     "text": [
      "[ 0  2  4  6  8 10 12 14 16 18]\n",
      "[16 18]\n",
      "[18]\n",
      "[]\n"
     ]
    }
   ],
   "source": [
    "# Bsp alle werte > 14\n",
    "arr > 14\n",
    "bool_arr = arr > 14\n",
    "print(arr)\n",
    "print(arr[bool_arr])\n",
    "\n",
    "# Schneller Filter\n",
    "print(arr[arr>17]) \n",
    "\n",
    "# Filter mit eingehender Variable\n",
    "x=50\n",
    "print(arr[arr>x])"
   ]
  },
  {
   "cell_type": "markdown",
   "metadata": {},
   "source": [
    "## 2d Matrix"
   ]
  },
  {
   "cell_type": "code",
   "execution_count": 30,
   "metadata": {},
   "outputs": [
    {
     "data": {
      "text/plain": [
       "array([[ 5, 10, 15],\n",
       "       [20, 25, 30],\n",
       "       [35, 40, 45]])"
      ]
     },
     "execution_count": 30,
     "metadata": {},
     "output_type": "execute_result"
    }
   ],
   "source": [
    "arr_2d"
   ]
  },
  {
   "cell_type": "markdown",
   "metadata": {},
   "source": [
    "### Reihe "
   ]
  },
  {
   "cell_type": "code",
   "execution_count": 31,
   "metadata": {},
   "outputs": [
    {
     "data": {
      "text/plain": [
       "array([35, 40, 45])"
      ]
     },
     "execution_count": 31,
     "metadata": {},
     "output_type": "execute_result"
    }
   ],
   "source": [
    "arr_2d[0]\n",
    "arr_2d[1]\n",
    "arr_2d[2,:] # Andere Schreibweise"
   ]
  },
  {
   "cell_type": "markdown",
   "metadata": {},
   "source": [
    "### Spalte\n",
    "vgl Subsets"
   ]
  },
  {
   "cell_type": "code",
   "execution_count": 32,
   "metadata": {},
   "outputs": [
    {
     "data": {
      "text/plain": [
       "array([20, 25, 30])"
      ]
     },
     "execution_count": 32,
     "metadata": {},
     "output_type": "execute_result"
    }
   ],
   "source": [
    "arr_2d[:,0]\n",
    "arr_2d[:][1] # Alternative Schreibweise\n",
    "#arr_2d[:,2]"
   ]
  },
  {
   "cell_type": "markdown",
   "metadata": {},
   "source": [
    "### Wert"
   ]
  },
  {
   "cell_type": "code",
   "execution_count": 33,
   "metadata": {},
   "outputs": [
    {
     "data": {
      "text/plain": [
       "20"
      ]
     },
     "execution_count": 33,
     "metadata": {},
     "output_type": "execute_result"
    }
   ],
   "source": [
    "arr_2d[1][0]"
   ]
  },
  {
   "cell_type": "markdown",
   "metadata": {},
   "source": [
    "### Subset\n",
    "Das Format ist arr_2d[row][col] oder arr_2d[row,col]"
   ]
  },
  {
   "cell_type": "code",
   "execution_count": 34,
   "metadata": {},
   "outputs": [
    {
     "data": {
      "text/plain": [
       "array([[10, 15],\n",
       "       [25, 30]])"
      ]
     },
     "execution_count": 34,
     "metadata": {},
     "output_type": "execute_result"
    }
   ],
   "source": [
    "arr_2d[:2,1:]"
   ]
  },
  {
   "cell_type": "markdown",
   "metadata": {},
   "source": [
    "# Update Data\n",
    "## Update Single-Value"
   ]
  },
  {
   "cell_type": "code",
   "execution_count": 35,
   "metadata": {},
   "outputs": [
    {
     "data": {
      "text/plain": [
       "array([     0,      2,      4, 300490,      8,     10,     12,     14,\n",
       "           16,     18])"
      ]
     },
     "execution_count": 35,
     "metadata": {},
     "output_type": "execute_result"
    }
   ],
   "source": [
    "arr[3] = 300490\n",
    "arr"
   ]
  },
  {
   "cell_type": "markdown",
   "metadata": {},
   "source": [
    "## Broadcasting\n",
    "mit dem Broadcasting können mehrere Werte in eienm Array zeitgleich upgedatet werden"
   ]
  },
  {
   "cell_type": "code",
   "execution_count": 36,
   "metadata": {},
   "outputs": [
    {
     "data": {
      "text/plain": [
       "array([100, 100, 100, 100, 100,  10,  12,  14,  16,  18])"
      ]
     },
     "execution_count": 36,
     "metadata": {},
     "output_type": "execute_result"
    }
   ],
   "source": [
    "arr[0:5]=100\n",
    "arr"
   ]
  },
  {
   "cell_type": "markdown",
   "metadata": {},
   "source": [
    "# Arithmetische Operationen am Numpy"
   ]
  },
  {
   "cell_type": "markdown",
   "metadata": {},
   "source": [
    "## Addition von Array"
   ]
  },
  {
   "cell_type": "code",
   "execution_count": 37,
   "metadata": {},
   "outputs": [
    {
     "data": {
      "text/plain": [
       "array([200, 200, 200, 200, 200,  20,  24,  28,  32,  36])"
      ]
     },
     "execution_count": 37,
     "metadata": {},
     "output_type": "execute_result"
    }
   ],
   "source": [
    "arr2 = arr + arr\n",
    "arr2"
   ]
  },
  {
   "cell_type": "code",
   "execution_count": null,
   "metadata": {},
   "outputs": [],
   "source": []
  },
  {
   "cell_type": "markdown",
   "metadata": {},
   "source": [
    "## Quadrieren von Array"
   ]
  },
  {
   "cell_type": "code",
   "execution_count": 38,
   "metadata": {},
   "outputs": [
    {
     "data": {
      "text/plain": [
       "array([10000, 10000, 10000, 10000, 10000,   100,   144,   196,   256,\n",
       "         324])"
      ]
     },
     "execution_count": 38,
     "metadata": {},
     "output_type": "execute_result"
    }
   ],
   "source": [
    "arr3 = arr * arr\n",
    "arr3"
   ]
  },
  {
   "cell_type": "markdown",
   "metadata": {},
   "source": [
    "## Subtraktion von Array"
   ]
  },
  {
   "cell_type": "code",
   "execution_count": 39,
   "metadata": {},
   "outputs": [
    {
     "data": {
      "text/plain": [
       "array([9800, 9800, 9800, 9800, 9800,   80,  120,  168,  224,  288])"
      ]
     },
     "execution_count": 39,
     "metadata": {},
     "output_type": "execute_result"
    }
   ],
   "source": [
    "arr4 = arr3 -arr2\n",
    "arr4"
   ]
  },
  {
   "cell_type": "markdown",
   "metadata": {},
   "source": [
    "## Division von Array"
   ]
  },
  {
   "cell_type": "code",
   "execution_count": 40,
   "metadata": {},
   "outputs": [
    {
     "data": {
      "text/plain": [
       "array([2., 2., 2., 2., 2., 2., 2., 2., 2., 2.])"
      ]
     },
     "execution_count": 40,
     "metadata": {},
     "output_type": "execute_result"
    }
   ],
   "source": [
    "arr5 = arr2 / arr\n",
    "arr5 # 0> wurde zuvor ja mal 2 bzw arr +arr gerechnet => 2 ist somit logisch"
   ]
  },
  {
   "cell_type": "markdown",
   "metadata": {},
   "source": [
    "## Potenzieren von Array"
   ]
  },
  {
   "cell_type": "code",
   "execution_count": 41,
   "metadata": {},
   "outputs": [
    {
     "name": "stdout",
     "output_type": "stream",
     "text": [
      "[10000 10000 10000 10000 10000   100   144   196   256   324]\n",
      "[1000000 1000000 1000000 1000000 1000000    1000    1728    2744    4096\n",
      "    5832]\n"
     ]
    }
   ],
   "source": [
    "arr6 = arr**2\n",
    "print(arr6)\n",
    "arr7 = arr**3\n",
    "print(arr7)"
   ]
  },
  {
   "cell_type": "markdown",
   "metadata": {},
   "source": [
    "## Wurzel aus Array"
   ]
  },
  {
   "cell_type": "code",
   "execution_count": 42,
   "metadata": {},
   "outputs": [],
   "source": [
    "# Data for sqrt\n",
    "ownNpArray = np.array([9,16,25]) "
   ]
  },
  {
   "cell_type": "code",
   "execution_count": 43,
   "metadata": {},
   "outputs": [
    {
     "name": "stdout",
     "output_type": "stream",
     "text": [
      "[3. 4. 5.]\n",
      "[3. 4. 5.]\n"
     ]
    }
   ],
   "source": [
    "# Version1\n",
    "arr8 = np.sqrt(ownNpArray) # => \n",
    "print(arr8) \n",
    "# Version2\n",
    "arr9 = ownNpArray**0.5\n",
    "print(arr9) "
   ]
  },
  {
   "cell_type": "markdown",
   "metadata": {},
   "source": [
    "## Calc Exponenten e"
   ]
  },
  {
   "cell_type": "code",
   "execution_count": 44,
   "metadata": {},
   "outputs": [
    {
     "data": {
      "text/plain": [
       "array([8.10308393e+03, 8.88611052e+06, 7.20048993e+10])"
      ]
     },
     "execution_count": 44,
     "metadata": {},
     "output_type": "execute_result"
    }
   ],
   "source": [
    "np.exp(ownNpArray)"
   ]
  },
  {
   "cell_type": "markdown",
   "metadata": {},
   "source": [
    "## Log"
   ]
  },
  {
   "cell_type": "code",
   "execution_count": 45,
   "metadata": {},
   "outputs": [
    {
     "data": {
      "text/plain": [
       "array([2.19722458, 2.77258872, 3.21887582])"
      ]
     },
     "execution_count": 45,
     "metadata": {},
     "output_type": "execute_result"
    }
   ],
   "source": [
    "np.log(ownNpArray)"
   ]
  },
  {
   "cell_type": "markdown",
   "metadata": {},
   "source": [
    "## Demo e und Log"
   ]
  },
  {
   "cell_type": "code",
   "execution_count": 46,
   "metadata": {},
   "outputs": [
    {
     "name": "stdout",
     "output_type": "stream",
     "text": [
      "[ 9 16 25]\n",
      "[8.10308393e+03 8.88611052e+06 7.20048993e+10]\n",
      "[ 9. 16. 25.]\n"
     ]
    }
   ],
   "source": [
    "print(ownNpArray)\n",
    "\n",
    "expOwnNPArray = np.exp(ownNpArray)\n",
    "print(expOwnNPArray)\n",
    "\n",
    "logExpOwnNPArray = np.log(expOwnNPArray)\n",
    "print(logExpOwnNPArray)"
   ]
  },
  {
   "cell_type": "markdown",
   "metadata": {},
   "source": [
    "## Sinus"
   ]
  },
  {
   "cell_type": "code",
   "execution_count": 47,
   "metadata": {},
   "outputs": [
    {
     "data": {
      "text/plain": [
       "array([-0.50636564, -0.50636564, -0.50636564, -0.50636564, -0.50636564,\n",
       "       -0.54402111, -0.53657292,  0.99060736, -0.28790332, -0.75098725])"
      ]
     },
     "execution_count": 47,
     "metadata": {},
     "output_type": "execute_result"
    }
   ],
   "source": [
    "np.sin(arr)"
   ]
  },
  {
   "cell_type": "markdown",
   "metadata": {},
   "source": [
    "## Cosinus"
   ]
  },
  {
   "cell_type": "code",
   "execution_count": 48,
   "metadata": {},
   "outputs": [
    {
     "data": {
      "text/plain": [
       "array([ 0.86231887,  0.86231887,  0.86231887,  0.86231887,  0.86231887,\n",
       "       -0.83907153,  0.84385396,  0.13673722, -0.95765948,  0.66031671])"
      ]
     },
     "execution_count": 48,
     "metadata": {},
     "output_type": "execute_result"
    }
   ],
   "source": [
    "np.cos(arr)"
   ]
  },
  {
   "cell_type": "markdown",
   "metadata": {},
   "source": [
    "## Tangens"
   ]
  },
  {
   "cell_type": "code",
   "execution_count": 49,
   "metadata": {},
   "outputs": [
    {
     "data": {
      "text/plain": [
       "array([-0.58721392, -0.58721392, -0.58721392, -0.58721392, -0.58721392,\n",
       "        0.64836083, -0.63585993,  7.24460662,  0.30063224, -1.13731371])"
      ]
     },
     "execution_count": 49,
     "metadata": {},
     "output_type": "execute_result"
    }
   ],
   "source": [
    "np.tan(arr)"
   ]
  },
  {
   "cell_type": "markdown",
   "metadata": {},
   "source": [
    "## Matrix"
   ]
  },
  {
   "cell_type": "code",
   "execution_count": 50,
   "metadata": {},
   "outputs": [
    {
     "data": {
      "text/plain": [
       "array([[ 1,  2,  3,  4,  5],\n",
       "       [ 6,  7,  8,  9, 10],\n",
       "       [11, 12, 13, 14, 15],\n",
       "       [16, 17, 18, 19, 20],\n",
       "       [21, 22, 23, 24, 25]])"
      ]
     },
     "execution_count": 50,
     "metadata": {},
     "output_type": "execute_result"
    }
   ],
   "source": [
    "arr = np.arange(1,26)\n",
    "matrix = arr.reshape(5,5)\n",
    "matrix"
   ]
  },
  {
   "cell_type": "markdown",
   "metadata": {},
   "source": [
    "### Spaltensumme"
   ]
  },
  {
   "cell_type": "code",
   "execution_count": 51,
   "metadata": {},
   "outputs": [
    {
     "name": "stdout",
     "output_type": "stream",
     "text": [
      "[55 60 65 70 75]\n"
     ]
    }
   ],
   "source": [
    "print(sum(matrix))"
   ]
  },
  {
   "cell_type": "markdown",
   "metadata": {},
   "source": [
    "### Matrixsumme"
   ]
  },
  {
   "cell_type": "code",
   "execution_count": 52,
   "metadata": {},
   "outputs": [
    {
     "name": "stdout",
     "output_type": "stream",
     "text": [
      "325\n"
     ]
    }
   ],
   "source": [
    "print(sum(sum(matrix)))"
   ]
  },
  {
   "cell_type": "markdown",
   "metadata": {},
   "source": [
    "### Standardabweichung Matrix"
   ]
  },
  {
   "cell_type": "code",
   "execution_count": 53,
   "metadata": {},
   "outputs": [
    {
     "data": {
      "text/plain": [
       "7.211102550927978"
      ]
     },
     "execution_count": 53,
     "metadata": {},
     "output_type": "execute_result"
    }
   ],
   "source": [
    "np.std(matrix)"
   ]
  },
  {
   "cell_type": "markdown",
   "metadata": {},
   "source": [
    "### Varianz Matrix"
   ]
  },
  {
   "cell_type": "code",
   "execution_count": 54,
   "metadata": {},
   "outputs": [
    {
     "data": {
      "text/plain": [
       "52.0"
      ]
     },
     "execution_count": 54,
     "metadata": {},
     "output_type": "execute_result"
    }
   ],
   "source": [
    "np.var(matrix)"
   ]
  },
  {
   "cell_type": "markdown",
   "metadata": {},
   "source": [
    "# Conversion with other Libraries"
   ]
  },
  {
   "cell_type": "code",
   "execution_count": 55,
   "metadata": {},
   "outputs": [],
   "source": [
    "## Pandas\n",
    "import pandas as pd"
   ]
  },
  {
   "cell_type": "markdown",
   "metadata": {},
   "source": [
    "## Numpy to Pandas"
   ]
  },
  {
   "cell_type": "code",
   "execution_count": 56,
   "metadata": {},
   "outputs": [
    {
     "name": "stdout",
     "output_type": "stream",
     "text": [
      "<class 'pandas.core.frame.DataFrame'>\n",
      "    0   1   2   3   4\n",
      "0   1   2   3   4   5\n",
      "1   6   7   8   9  10\n",
      "2  11  12  13  14  15\n",
      "3  16  17  18  19  20\n",
      "4  21  22  23  24  25\n"
     ]
    }
   ],
   "source": [
    "ToPandas =  pd.DataFrame(matrix)\n",
    "print(type(ToPandas))\n",
    "ToPandas =  pd.DataFrame(matrix)\n",
    "print(ToPandas)"
   ]
  },
  {
   "cell_type": "markdown",
   "metadata": {},
   "source": [
    "## Pandas to Numpy"
   ]
  },
  {
   "cell_type": "code",
   "execution_count": 57,
   "metadata": {},
   "outputs": [
    {
     "name": "stdout",
     "output_type": "stream",
     "text": [
      "<class 'numpy.ndarray'>\n",
      "[[ 1  2  3  4  5]\n",
      " [ 6  7  8  9 10]\n",
      " [11 12 13 14 15]\n",
      " [16 17 18 19 20]\n",
      " [21 22 23 24 25]]\n"
     ]
    }
   ],
   "source": [
    "BackToNumpy = ToPandas.to_numpy()\n",
    "print(type(BackToNumpy))\n",
    "print(BackToNumpy)"
   ]
  }
 ],
 "metadata": {
  "kernelspec": {
   "display_name": "Python 3",
   "language": "python",
   "name": "python3"
  },
  "language_info": {
   "codemirror_mode": {
    "name": "ipython",
    "version": 3
   },
   "file_extension": ".py",
   "mimetype": "text/x-python",
   "name": "python",
   "nbconvert_exporter": "python",
   "pygments_lexer": "ipython3",
   "version": "3.6.9"
  },
  "toc": {
   "base_numbering": 1,
   "nav_menu": {},
   "number_sections": true,
   "sideBar": true,
   "skip_h1_title": false,
   "title_cell": "Table of Contents",
   "title_sidebar": "Contents",
   "toc_cell": false,
   "toc_position": {
    "height": "calc(100% - 180px)",
    "left": "10px",
    "top": "150px",
    "width": "373.333px"
   },
   "toc_section_display": true,
   "toc_window_display": true
  }
 },
 "nbformat": 4,
 "nbformat_minor": 2
}
