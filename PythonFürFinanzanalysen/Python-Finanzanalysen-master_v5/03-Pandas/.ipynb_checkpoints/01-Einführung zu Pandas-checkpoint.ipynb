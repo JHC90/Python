{
 "cells": [
  {
   "cell_type": "markdown",
   "metadata": {},
   "source": [
    "<a href=\"https://datamics.com/de/courses/\"><img src=../DATA/bg_datamics_top.png></a>\n",
    "\n",
    "<em text-align:center>© Datamics</em>\n",
    "# Einführung zu Pandas\n",
    "\n",
    "In dieser Sektion werden wir lernen Pandas für die Daten Analyse zu benutzen. Ihr könnt euch Pandas als eine sehr mächtige Variante von Excel vorstellen, die viel mehr Features bietet.\n",
    "\n",
    "In dieser Lektion solltet ihr die Notebooks in folgender Reihenfolge bearbeiten:\n",
    "\n",
    "* Einführung zu Pandas\n",
    "* Series\n",
    "* Data Frames\n",
    "* Missing Data\n",
    "* Group By\n",
    "* Merging, Joining und Concatenating\n",
    "* Operations\n",
    "* Daten Input und Output"
   ]
  },
  {
   "cell_type": "code",
   "execution_count": null,
   "metadata": {},
   "outputs": [],
   "source": []
  }
 ],
 "metadata": {
  "kernelspec": {
   "display_name": "Python 3",
   "language": "python",
   "name": "python3"
  },
  "language_info": {
   "codemirror_mode": {
    "name": "ipython",
    "version": 3
   },
   "file_extension": ".py",
   "mimetype": "text/x-python",
   "name": "python",
   "nbconvert_exporter": "python",
   "pygments_lexer": "ipython3",
   "version": "3.6.9"
  },
  "toc": {
   "base_numbering": 1,
   "nav_menu": {},
   "number_sections": true,
   "sideBar": true,
   "skip_h1_title": false,
   "title_cell": "Table of Contents",
   "title_sidebar": "Contents",
   "toc_cell": false,
   "toc_position": {},
   "toc_section_display": true,
   "toc_window_display": false
  }
 },
 "nbformat": 4,
 "nbformat_minor": 2
}
